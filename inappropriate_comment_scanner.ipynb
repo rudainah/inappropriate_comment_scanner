{
 "cells": [
  {
   "cell_type": "markdown",
   "id": "9caa5165-2c21-4b14-9586-ce566ac4dbad",
   "metadata": {},
   "source": [
    "# Inappropriate Comment Scanner \n",
    "Rudainah Khaled and Omair Hamd alla - Natural Language Processing - IAU"
   ]
  },
  {
   "cell_type": "markdown",
   "id": "a0d2987b-0d81-4815-b714-4bd3b0b43981",
   "metadata": {
    "tags": []
   },
   "source": [
    "# The Libraries"
   ]
  },
  {
   "cell_type": "code",
   "execution_count": null,
   "id": "7180f7ea-5b5f-42e8-84c6-500e7c1ef33a",
   "metadata": {
    "tags": []
   },
   "outputs": [],
   "source": [
    "from customtkinter import *\n",
    "import pandas as pd\n",
    "from better_profanity import profanity"
   ]
  },
  {
   "cell_type": "markdown",
   "id": "6565ffc8-d28e-4759-b49a-86a6283b0305",
   "metadata": {},
   "source": [
    "# Filtering the Comments "
   ]
  },
  {
   "cell_type": "code",
   "execution_count": null,
   "id": "6faf5cba-272f-4a5a-8f05-66a4141271be",
   "metadata": {},
   "outputs": [],
   "source": [
    "def filteringCommnet(data, text_column, text_list):\n",
    "    added_bad_words = []\n",
    "    profanity.load_censor_words(added_bad_words)\n",
    "\n",
    "    data[\"filtered_text\"] = data[text_column].apply(lambda text: profanity.censor(text))\n",
    "    data.to_excel(\"filtered_comments.xlsx\", index=False)\n",
    "    \n",
    "    print(\"Filtering completed and it has been exported to a new file!\")"
   ]
  },
  {
   "cell_type": "markdown",
   "id": "0f262745-6bf4-44f0-85e7-9ecb3e6596fe",
   "metadata": {},
   "source": [
    "# Comments Toxicity "
   ]
  },
  {
   "cell_type": "code",
   "execution_count": null,
   "id": "8770b046-f2d3-4568-b333-ed7ebc4fd356",
   "metadata": {},
   "outputs": [],
   "source": [
    "def is_toxic(text):\n",
    "    return profanity.contains_profanity(text) or any(trigger_word in text for trigger_word in [\"offensive\", \"hateful\"])"
   ]
  },
  {
   "cell_type": "code",
   "execution_count": null,
   "id": "b7d477df-12dc-40de-8f07-e5afec17d69c",
   "metadata": {},
   "outputs": [],
   "source": [
    "def toxicity(data, text_column, is_toxic):\n",
    "    data[\"toxicity\"] = data[text_column].apply(is_toxic)\n",
    "    data[\"toxicity\"] = data[\"toxicity\"].map({True: 1, False: 0})\n",
    "\n",
    "    data[\"toxic_word_count\"] = data[text_column].apply(count_toxic_words)  \n",
    "\n",
    "    data.to_excel(\"comments_toxicity.xlsx\", index=False)\n",
    "\n",
    "    print(\"Toxicity analysis completed and it has been exported to a new file!\")"
   ]
  },
  {
   "cell_type": "markdown",
   "id": "4be7fc53-0e9f-4aff-94ea-e5420584984e",
   "metadata": {},
   "source": [
    "# Toxic Words Counter in Each Comment"
   ]
  },
  {
   "cell_type": "code",
   "execution_count": null,
   "id": "f52f7470-bf2b-4168-af95-d2b8d0d89341",
   "metadata": {},
   "outputs": [],
   "source": [
    "def count_toxic_words(text):\n",
    "    toxic_word_count = 0\n",
    "    for word in text.split():\n",
    "        if profanity.contains_profanity(word):\n",
    "            toxic_word_count += 1\n",
    "    return toxic_word_count"
   ]
  },
  {
   "cell_type": "markdown",
   "id": "525da245-4331-4c20-bb73-d2f91cd54d32",
   "metadata": {
    "tags": []
   },
   "source": [
    "# Toxic Comments Countert"
   ]
  },
  {
   "cell_type": "code",
   "execution_count": null,
   "id": "29a8ef6a-9876-4986-8925-ffd56952861e",
   "metadata": {},
   "outputs": [],
   "source": [
    "def count_toxic_comments(data):\n",
    "    toxic_count = data[\"toxicity\"].sum()    \n",
    "    non_toxic_count = len(data) - toxic_count\n",
    "\n",
    "    print(f\"Number of comments in this file: {len(data)}\")\n",
    "    print(f\"Number of toxic comments: {toxic_count}\")\n",
    "    print(f\"Number of non-toxic comments: {non_toxic_count}\")"
   ]
  },
  {
   "cell_type": "markdown",
   "id": "bfa97d11-e3ce-4ee1-92fa-3be1656a1354",
   "metadata": {
    "tags": []
   },
   "source": [
    "# Open the file "
   ]
  },
  {
   "cell_type": "code",
   "execution_count": null,
   "id": "b061e38a-9fec-4de5-b657-40c2ab99f57d",
   "metadata": {
    "tags": []
   },
   "outputs": [],
   "source": [
    "def openFile():\n",
    "    filepath = filedialog.askopenfilename(title=\"Choose Excel file:\",\n",
    "                                          filetypes= ((\"Excel files\",(\"*.csv\" , \"xlsx\")),\n",
    "                                          (\"all files\",\".\")))\n",
    "    \n",
    "    print(f\"\\nThe Dataset File Path {filepath}\")\n",
    "    \n",
    "    activateFunctions(filepath)"
   ]
  },
  {
   "cell_type": "markdown",
   "id": "4519a5c1-0207-4020-bc20-02f602b26265",
   "metadata": {},
   "source": [
    "# Activate the Functions"
   ]
  },
  {
   "cell_type": "code",
   "execution_count": null,
   "id": "1a8e0164-b7e2-4b1f-b8f8-741005b207dd",
   "metadata": {},
   "outputs": [],
   "source": [
    "def activateFunctions(filepath):    \n",
    "    data = pd.read_excel(filepath)\n",
    "    \n",
    "    text_column = data.columns[0]\n",
    "    text_list = data[text_column].tolist()\n",
    "\n",
    "    filteringCommnet(data, text_column, text_list)\n",
    "    toxicity(data, text_column, is_toxic)\n",
    "    count_toxic_comments(data)"
   ]
  },
  {
   "cell_type": "markdown",
   "id": "5e37a3fb-5b51-4da3-afd6-ac6637b0bf5d",
   "metadata": {},
   "source": [
    "# User Interface"
   ]
  },
  {
   "cell_type": "code",
   "execution_count": null,
   "id": "53d03042-af76-4580-a11c-659d251d5191",
   "metadata": {},
   "outputs": [],
   "source": [
    "def about():\n",
    "    global infoWindow\n",
    "    if infoWindow and infoWindow.winfo_exists():\n",
    "        infoWindow.lift()  \n",
    "    else:\n",
    "        infoWindow = CTkToplevel(root)  \n",
    "        infoWindow.title(\"About\")\n",
    "        infoWindow.geometry(\"420x200\")\n",
    "        infoWindow.columnconfigure((1,3), weight=1)\n",
    "        infoWindow.columnconfigure(2, weight=2)\n",
    "        infoWindow.rowconfigure((1,2,4,6,7) ,weight=2)\n",
    "        infoWindow.rowconfigure((3,5) ,weight=1)\n",
    "        infoWindow.resizable(False, False)\n",
    "        infoWindow.attributes('-topmost', True)\n",
    "\n",
    "        names_Label = CTkLabel(infoWindow,\n",
    "                               text=\"This is a Project for NLP course\\nMade to scaninappropriate words\\nIt was done by:\\n\\t• Omair Hamd Alla\\n\\t• Rudainah Khaled\",\n",
    "                               justify='left')\n",
    "        names_Label.configure(font=(\"\", 16, \"normal\"))\n",
    "        names_Label.grid(row=3, column=2, sticky='ew')\n",
    "\n",
    "        libraries_Label = CTkLabel(infoWindow,\n",
    "                               text=\"With the help of these libraries:\\n\\t• better_profanity : for profanity checking\\n\\t• pandas : for Excel handling\\n\\t• customtkinter : for GUI\",\n",
    "                               justify='left')\n",
    "        libraries_Label.configure(font=(\"\", 16, \"normal\"))\n",
    "        libraries_Label.grid(row=4, column=2, sticky='ew')\n",
    "        infoWindow.lift()"
   ]
  },
  {
   "cell_type": "code",
   "execution_count": null,
   "id": "a3749783-7fa5-4cf5-9ed4-c05bcfea3e2f",
   "metadata": {},
   "outputs": [],
   "source": [
    "root = CTk()\n",
    "root.geometry(\"420x200\")\n",
    "root.resizable(False, False)\n",
    "root.title(\"NLP - Innappropriate Comment Scanner\")\n",
    "\n",
    "root.columnconfigure((1,2,4,5), weight=1)\n",
    "root.columnconfigure(3, weight=2)\n",
    "root.rowconfigure((1,2,4,7,8) ,weight=2)\n",
    "root.rowconfigure((3,5,6) ,weight=1)\n",
    "\n",
    "label = CTkLabel(root,text=\"Welcome to Innappropriate Comment Scanner!\\nAdd a CSV file below with \\\"Comments\\\" column\\nAnd a new file will be created\\nIt will be in the same directory as this code.\").grid(row=3,column=3)\n",
    "button = CTkButton(master = root, text=\"Open File\",command=openFile,)\n",
    "button.grid(row=5, column=3, sticky='ew')\n",
    "\n",
    "infoWindow = None\n",
    "info = CTkButton(master = root, text=\"About\",command=about)\n",
    "info.grid(row=6, column=3, sticky='ew')\n",
    "\n",
    "root.mainloop()"
   ]
  },
  {
   "cell_type": "markdown",
   "id": "3e524afc-ea7a-4d67-a480-07a1bc2a490e",
   "metadata": {},
   "source": [
    "# Copyright"
   ]
  },
  {
   "cell_type": "code",
   "execution_count": null,
   "id": "1ecdbfb3-a391-4862-9dbd-92fed7e0a72d",
   "metadata": {
    "tags": []
   },
   "outputs": [],
   "source": [
    "def copyright():\n",
    "    copyright_notice = \"© 2023 Rudainah Khaled and Omair Hamd-alla. All rights reserved.\"\n",
    "\n",
    "    print(copyright_notice)"
   ]
  }
 ],
 "metadata": {
  "kernelspec": {
   "display_name": "Python 3 (ipykernel)",
   "language": "python",
   "name": "python3"
  },
  "language_info": {
   "codemirror_mode": {
    "name": "ipython",
    "version": 3
   },
   "file_extension": ".py",
   "mimetype": "text/x-python",
   "name": "python",
   "nbconvert_exporter": "python",
   "pygments_lexer": "ipython3",
   "version": "3.11.0"
  }
 },
 "nbformat": 4,
 "nbformat_minor": 5
}
